{
 "cells": [
  {
   "cell_type": "markdown",
   "metadata": {},
   "source": [
    "# Factors determining the supervisory role of banks in a country: empirical evidence\n",
    "\n",
    "*Authors: Julien Govaarts (940964) and Isabel Meinema (623974)*\n",
    "    \n",
    "### Research question\n",
    "---\n",
    "What is the influence of country-specific characteristics on the choice of supervision? This paper investigates the relation between inflation, GDP per capita, bank capital to assets ratio and the Worldwide Governance Indicators on the choice of a supervisory institution.\n",
    "\n",
    "### Motivation\n",
    "---\n",
    "Financial supervision is a broad topic with several dimensions, such as who should act as a lender of last resort, or whether supervision should be on a national or supranational level. In our paper we choose to focus on the choice of the institution of which the supervisory role should be assigned to. This can be the central bank, a governmental agency or a combination of both. The choice of an institution and its power can be an important determinant for influences on factors such as bank profit efficiency. For example, Gaganis and Pasiouras (2013) find that bank profit efficiency decreases when a central bank supervises a higher number of financial sectors. However, the optimal choice of an institution ultimately depends on a diverse range of characteristics of the country that has to make this decision (Eichengreen & Dincer, 2011). Therefore, it is not obvious which institution should conduct supervision in a country, and most likely depends on macro-economic as well as social factors (Ferran, 2011).\n",
    "\n",
    "The assignment of supervisory powers to a central bank or an agency could however have other optima for countries with different characteristics. Country A does not necessarily have to assign the supervision of the financial system to the same party as country B does, if the characteristics of country A and B differ substantially. This means that not either the option of a central bank, a governmental agency or both as supervisor necessarily has to be the right choice for all countries, it depends on the various characteristics of these countries.\n",
    "\n",
    "In order to find which type of countries would prefer a central bank or a governmental agency as their supervisor, we turn to the paper of Eichengreen and Dincer (2011). They have established a regression analysis in which they research which characteristics belong to countries choosing a central bank as their supervisor and in the same way which characteristics belong to countries with supervisory agencies. They have established these relationships by coding the structure of bank supervision as taking on different values when being assigned to an independent authority, a dependent governmental authority, and the central bank. They have used certain variables, as a representative for these characteristics, of each country that could be of influence to the choice of supervisor and regressed the data belonging to these variables on the values that have been assigned by the coding.\n",
    "\n",
    "Furthermore, we want to investigate whether countries with a higher bank capital to assets ratio are more likely to assign supervisory authority to central banks or governmental agencies. The reasoning behind this is that countries with a higher bank capital to assets ratio would in general have a more profound financial system, so it is interesting to research the influence of these capital ratios on the choice of supervisor.\n",
    "\n",
    "### Method\n",
    "---\n",
    "\n",
    "### Answer\n",
    "---\n",
    "We find that less developed countries with lower GDP per capita ratios more likely opt for a central bank as supervisor. We also find that political stability and rule of law had a positive effect on choosing central banks as supervisor. Lastly, we tried to find a relationship between the banking capital to assets ratio and the choice of supervisor. However, the relations of this variable with regard to the choice of a central bank or a governmental agency as supervisor are both negative.\n",
    "\n",
    "### Main assumptions\n",
    "---\n",
    "\n",
    "### Graphs of the data\n",
    "---\n",
    "\n",
    "### Equations\n",
    "---\n",
    "\n",
    "### Conclusion/answer to the question\n",
    "---\n",
    "The supervision of the financial system has gained significant attention in the last years, especially due to the financial crisis. To which party this supervisory role has to be assigned though, is still debatable. In line with the research of Eichengreen & Dincer (2011), we conducted a regression of the influence of certain country-specific variables on the choice of either a bank, a governmental agency or both as supervisor.\n",
    "\n",
    "We find that less developed countries with lower GDP per capita ratios more likely opt for a central bank as supervisor. One reason for this could be that the central banks in these countries tend to be better-funded, more independent and therefore more expert and reliable than governmental agencies. We also find that political stability and rule of law had a positive effect on choosing central banks as supervisor. This influence has not yet been explained in existing literature and we would therefore suggest that more research needs to be done in order to explain this relationship.\n",
    "\n",
    "In this paper, we also tried to find a relationship between the banking capital to assets ratio and the choice of supervisor. However, the relations of this variable with regard to the choice of a central bank or a governmental agency as supervisor are both negative. We were therefore not able to explain the effect on higher capital ratios, and therefore a more profound financial system, on the choice of supervisor. Since the current literature fails to address this relation up until now, it is interesting if more research in this field would be done.\n",
    "\n",
    "### Discussion\n",
    "---\n",
    "When comparing our results to the results of the paper of Eichengreen and Dincer (2011) in general, it becomes clear that the direction of the effects of variables on choosing the supervisor are the same for the variables GDP per capita, rule of law, political stability and regulatory quality. Inflation, accountability and government effectiveness gave ambiguous results in the paper of Eichengreen and Dincer (2011). Our regression showed positive results on choosing central bank from the variables inflation and government effectiveness, and a negative result from accountability. However, for inflation the result was close to zero and therefore negligible. The low coefficients of some variables as discussed can be explained by the correlation coefficients between the World Government Indicators, since they are all very high, varying from 0,80 to 0,98. Because of these high correlations, it was not expected that these factors have diverse effects on the choice of supervision. "
   ]
  }
 ],
 "metadata": {
  "anaconda-cloud": {},
  "kernelspec": {
   "display_name": "Python [conda root]",
   "language": "python",
   "name": "conda-root-py"
  },
  "language_info": {
   "codemirror_mode": {
    "name": "ipython",
    "version": 2
   },
   "file_extension": ".py",
   "mimetype": "text/x-python",
   "name": "python",
   "nbconvert_exporter": "python",
   "pygments_lexer": "ipython2",
   "version": "2.7.12"
  }
 },
 "nbformat": 4,
 "nbformat_minor": 1
}
